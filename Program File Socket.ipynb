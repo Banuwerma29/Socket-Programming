{
 "cells": [
  {
   "cell_type": "code",
   "execution_count": null,
   "id": "112c3a86",
   "metadata": {},
   "outputs": [
    {
     "name": "stdout",
     "output_type": "stream",
     "text": [
      "Server listening on 127.0.0.1:12345\n"
     ]
    }
   ],
   "source": [
    "import socket\n",
    "\n",
    "def main():\n",
    "    # Define host and port\n",
    "    host = '127.0.0.1'\n",
    "    port = 12345\n",
    "    \n",
    "    # Create a socket object\n",
    "    server_socket = socket.socket(socket.AF_INET, socket.SOCK_STREAM)\n",
    "    \n",
    "    # Bind the socket to the address\n",
    "    server_socket.bind((host, port))\n",
    "    \n",
    "    # Listen for incoming connections\n",
    "    server_socket.listen(5)\n",
    "    print(\"Server listening on {}:{}\".format(host, port))\n",
    "    \n",
    "    while True:\n",
    "        # Accept a connection\n",
    "        client_socket, addr = server_socket.accept()\n",
    "        print(\"Connection from {}\".format(addr))\n",
    "        \n",
    "        # Receive data from the client\n",
    "        data = client_socket.recv(1024).decode()\n",
    "        if not data:\n",
    "            break\n",
    "        print(\"Received data:\", data)\n",
    "        \n",
    "        # Echo the received data back to the client\n",
    "        client_socket.sendall(data.encode())\n",
    "        \n",
    "        # Close the connection\n",
    "        client_socket.close()\n",
    "\n",
    "if __name__ == \"__main__\":\n",
    "    main()"
   ]
  },
  {
   "cell_type": "code",
   "execution_count": null,
   "id": "5a409376",
   "metadata": {},
   "outputs": [],
   "source": []
  }
 ],
 "metadata": {
  "kernelspec": {
   "display_name": "Python 3 (ipykernel)",
   "language": "python",
   "name": "python3"
  },
  "language_info": {
   "codemirror_mode": {
    "name": "ipython",
    "version": 3
   },
   "file_extension": ".py",
   "mimetype": "text/x-python",
   "name": "python",
   "nbconvert_exporter": "python",
   "pygments_lexer": "ipython3",
   "version": "3.11.4"
  }
 },
 "nbformat": 4,
 "nbformat_minor": 5
}
